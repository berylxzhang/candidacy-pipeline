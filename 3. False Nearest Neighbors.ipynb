{
 "cells": [
  {
   "cell_type": "markdown",
   "metadata": {},
   "source": [
    "# 1. Import Modules"
   ]
  },
  {
   "cell_type": "code",
   "execution_count": 3,
   "metadata": {},
   "outputs": [],
   "source": [
    "import numpy as np\n",
    "import matplotlib.pyplot as plt\n",
    "%matplotlib inline\n",
    "import mdtraj as md\n",
    "import dmaps\n",
    "from numpy import matlib as mb"
   ]
  },
  {
   "cell_type": "markdown",
   "metadata": {},
   "source": [
    "# 2. Load Trajectories"
   ]
  },
  {
   "cell_type": "code",
   "execution_count": 4,
   "metadata": {},
   "outputs": [],
   "source": [
    "traj = np.loadtxt('h2t series.txt', delimiter=',')[:2000]"
   ]
  },
  {
   "cell_type": "code",
   "execution_count": 5,
   "metadata": {},
   "outputs": [
    {
     "data": {
      "text/plain": [
       "(2000,)"
      ]
     },
     "execution_count": 5,
     "metadata": {},
     "output_type": "execute_result"
    }
   ],
   "source": [
    "traj.shape"
   ]
  },
  {
   "cell_type": "markdown",
   "metadata": {},
   "source": [
    "# 3. False Nearest Neighbors"
   ]
  },
  {
   "cell_type": "code",
   "execution_count": 6,
   "metadata": {},
   "outputs": [
    {
     "name": "stdout",
     "output_type": "stream",
     "text": [
      "Enter the delay time T:2\n",
      "Enter the largest dimenstion D you want test:25\n",
      "d=0.000000\n",
      "\n",
      "d=1.000000\n",
      "\n",
      "d=2.000000\n",
      "\n",
      "d=3.000000\n",
      "\n",
      "d=4.000000\n",
      "\n",
      "d=5.000000\n",
      "\n",
      "d=6.000000\n",
      "\n",
      "d=7.000000\n",
      "\n",
      "d=8.000000\n",
      "\n",
      "d=9.000000\n",
      "\n",
      "d=10.000000\n",
      "\n",
      "d=11.000000\n",
      "\n",
      "d=12.000000\n",
      "\n",
      "d=13.000000\n",
      "\n",
      "d=14.000000\n",
      "\n",
      "d=15.000000\n",
      "\n",
      "d=16.000000\n",
      "\n",
      "d=17.000000\n",
      "\n",
      "d=18.000000\n",
      "\n",
      "d=19.000000\n",
      "\n",
      "d=20.000000\n",
      "\n",
      "d=21.000000\n",
      "\n",
      "d=22.000000\n",
      "\n",
      "d=23.000000\n",
      "\n",
      "d=24.000000\n",
      "\n"
     ]
    },
    {
     "data": {
      "image/png": "[encoded data removed]",
      "text/plain": [
       "<Figure size 432x288 with 1 Axes>"
      ]
     },
     "metadata": {
      "needs_background": "light"
     },
     "output_type": "display_data"
    }
   ],
   "source": [
    "# This function is to compute the E1 measurement in FNN algorithm to\n",
    "# identify the optima delay dimension.\n",
    "\n",
    "T = input('Enter the delay time T:') #input delay time\n",
    "T = int(T)\n",
    "length = len(traj)\n",
    "M = traj \n",
    "\n",
    "def FNN(M):\n",
    "    D = input('Enter the largest dimenstion D you want test:') #determin range of testing dimension \n",
    "    D = int(D)\n",
    "    E1 = np.zeros(D)\n",
    "    E2 = np.zeros(D)\n",
    "    length = len(M)\n",
    "    \n",
    "    \n",
    "    for m in range(D):\n",
    "        print('d=%f\\n'%m)\n",
    "        e,es = E(m) # pick out E(d),E*(d)\n",
    "        (e1,es1) = E(m+1) # pick out E(d+1),E*(d+1)\n",
    "        E1[m] = e1/e #E1(d),E1 is actually increasing it's dimension as m increasing\n",
    "        E2[m] = es1/es #E2(d)\n",
    "    \n",
    "    np.savetxt('E1.dat', E1)\n",
    "    np.savetxt('E2.dat', E2)\n",
    "    \n",
    "    fig, ax = plt.subplots()\n",
    "    ax.plot(range(D), E1, 'k--', marker='o')\n",
    "#     ax.plot(range(1,D+1,1), E2, 'k--', marker='o')\n",
    "    ax.set_xlabel(\"delay embedding dimension, d\")\n",
    "    ax.set_ylabel(\"E1(d)\") \n",
    "    \n",
    "    plt.draw()\n",
    "    plt.show()\n",
    "        \n",
    "def innerfun(i,d): #define inner function\n",
    "    J = 0\n",
    "    mi = np.inf  #preset the minimum norm for nearest neighbor\n",
    "    for j in range(length-d*T): # scan over all snapshot to caculate norm with i\n",
    "        ma = 0\n",
    "        for k in range(d-1): # scan over all d components\n",
    "            if abs(M[j+k*T]-M[i+k*T])>ma: # select the real maximum component \n",
    "                ma = abs(M[j+k*T]-M[i+k*T])\n",
    "        if ma!= 0:\n",
    "            if ma < mi: # find the real minimum norm, determine the nearest neighbor\n",
    "                mi = ma\n",
    "                J = j # pick out # of nearest neighbor of i\n",
    "    \n",
    "    a = max(mi,abs(M[i+d*T]-M[J+d*T]))/mi # output new norm in d+1 dimension for this nearest pair\n",
    "    b = abs(M[i+d*T]-M[J+d*T]) #out put the subtraction of new component of this nearest pair \n",
    "        \n",
    "    return a,b\n",
    "\n",
    "\n",
    "def E(d): # define the function for doing summation and average\n",
    "    temp1 = 0 #temp for E\n",
    "    temp2 = 0 #temp for E*\n",
    "    \n",
    "    for l in range(length-int(d*T)): #sum over this range\n",
    "        (p,q) = innerfun(l,d) #pick out two value from function a\n",
    "        temp1 = temp1 + p # make sum\n",
    "        temp2 = temp2 + q       \n",
    "   \n",
    "    temp1 = temp1/(length-d*T) #average\n",
    "    temp2 = temp2/(length-d*T);\n",
    "   \n",
    "    E = temp1 #out put E\n",
    "    Es = temp2 #out put E*\n",
    "    \n",
    "    return E,Es\n",
    "\n",
    "FNN(traj)"
   ]
  },
  {
   "cell_type": "code",
   "execution_count": null,
   "metadata": {},
   "outputs": [],
   "source": []
  }
 ],
 "metadata": {
  "kernelspec": {
   "display_name": "Python 3",
   "language": "python",
   "name": "python3"
  },
  "language_info": {
   "codemirror_mode": {
    "name": "ipython",
    "version": 3
   },
   "file_extension": ".py",
   "mimetype": "text/x-python",
   "name": "python",
   "nbconvert_exporter": "python",
   "pygments_lexer": "ipython3",
   "version": "3.7.3"
  }
 },
 "nbformat": 4,
 "nbformat_minor": 2
}
