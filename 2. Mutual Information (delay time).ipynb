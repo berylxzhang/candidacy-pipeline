{
 "cells": [
  {
   "cell_type": "markdown",
   "metadata": {},
   "source": [
    "# 1. Import Modules"
   ]
  },
  {
   "cell_type": "code",
   "execution_count": 1,
   "metadata": {},
   "outputs": [],
   "source": [
    "import numpy as np\n",
    "import matplotlib.pyplot as plt\n",
    "%matplotlib inline\n",
    "import mdtraj as md\n",
    "import dmaps\n",
    "from numpy import matlib as mb"
   ]
  },
  {
   "cell_type": "code",
   "execution_count": 2,
   "metadata": {},
   "outputs": [],
   "source": [
    "import math"
   ]
  },
  {
   "cell_type": "markdown",
   "metadata": {},
   "source": [
    "# 2. Load Trajectories"
   ]
  },
  {
   "cell_type": "code",
   "execution_count": 3,
   "metadata": {},
   "outputs": [],
   "source": [
    "traj = np.loadtxt('h2t series.txt', delimiter=',')"
   ]
  },
  {
   "cell_type": "code",
   "execution_count": 4,
   "metadata": {},
   "outputs": [
    {
     "data": {
      "text/plain": [
       "(50001,)"
      ]
     },
     "execution_count": 4,
     "metadata": {},
     "output_type": "execute_result"
    }
   ],
   "source": [
    "traj.shape"
   ]
  },
  {
   "cell_type": "markdown",
   "metadata": {},
   "source": [
    "# 3. Mutual Information"
   ]
  },
  {
   "cell_type": "code",
   "execution_count": 5,
   "metadata": {},
   "outputs": [
    {
     "name": "stdout",
     "output_type": "stream",
     "text": [
      "Finishing importing data, there are 50001 snapshots.\n",
      "the maximun value is 2.797, and the minimum values is 0.327 \n",
      "\n",
      "Enter the number of bins you want make:5\n",
      "Enter the largest tao you want to test from 0:16\n"
     ]
    },
    {
     "data": {
      "image/png": "[encoded data removed]",
      "text/plain": [
       "<Figure size 432x288 with 1 Axes>"
      ]
     },
     "metadata": {
      "needs_background": "light"
     },
     "output_type": "display_data"
    }
   ],
   "source": [
    "def MI(traj):\n",
    "    length = len(traj)\n",
    "    ma = max(traj)\n",
    "    mi = min(traj)\n",
    "    Delt = ma - mi #gap between max and min, will be use later\n",
    "    print('Finishing importing data, there are %d snapshots.\\nthe maximun value is %2.3f, and the minimum values is %2.3f \\n'%(length,ma,mi))\n",
    "    #print out the total number of snapshots, and the max,min\n",
    "    \n",
    "    B = input('Enter the number of bins you want make:') #determin bin number\n",
    "    T = input('Enter the largest tao you want to test from 0:') #determin largest tao\n",
    "    B = int(B)\n",
    "    T = int(T)\n",
    "    I = np.zeros(T) #Mutual Information\n",
    "    \n",
    "    for t in range(T):\n",
    "        Pt = np.zeros(T)  #x(t)'s probabilistic trajribution among B bins\n",
    "        Ptt = np.zeros(T) #x(t+tao)'s probabilistic trajribution among B bins\n",
    "        Pxy = np.zeros((T,T)) #combination probabilistic trajribution among B^2 bins\n",
    "        \n",
    "        for i in range(0,length-t,1): # effective number, because there are delay time T\n",
    "            \n",
    "            temp1 = math.floor((traj[i]-mi)/Delt*B) # this will automatically direct M(i) to its bin\n",
    " \n",
    "            if traj[i] == ma: #for maximun one, there will not be more bin for it\n",
    "                temp1 = temp1-1\n",
    "            \n",
    "            Pt[temp1] = Pt[temp1]+1 #add one point into this bin\n",
    "            \n",
    "            temp2 = math.floor((traj[i+t]-mi)/Delt*B)\n",
    "            \n",
    "            if traj[i+t] == ma:\n",
    "                temp2 = temp2-1\n",
    "          \n",
    "            Ptt[temp2] = Ptt[temp2]+1\n",
    "        \n",
    "            Pxy[temp1,temp2] = Pxy[temp1,temp2]+1 #add one point into this 2-d bin\n",
    "     \n",
    "        PT = Pt/(length-t) #transfer bin counting trajribution to probabilistic trajribution\n",
    "        PTT = Ptt/(length-t)\n",
    "        PXY = Pxy/(length-t)\n",
    "    \n",
    "        for i in range(T): #sum over number of bins\n",
    "            for j in range(T):\n",
    "                if PXY[i,j]!=0 and PT[i]!=0 and PTT[j]!=0:\n",
    "                    I[t] = I[t] + PXY[i,j]*math.log2(PXY[i,j]/PT[i]/PTT[j])\n",
    "    \n",
    "    \n",
    "    fig, ax = plt.subplots()\n",
    "    ax.plot(np.array(range(1,len(I)+1,1))*10, I, 'k--', marker='o')\n",
    "    ax.set_xlabel(\"delay time,\\u03C4(ps)\",fontsize=18)\n",
    "    ax.set_ylabel(\"MI,I(\\u03B9(t),\\u03B9(t-\\u03C4))\",fontsize=18) \n",
    "    ax.tick_params(labelsize=15)\n",
    "    plt.draw()\n",
    "    plt.show()\n",
    "\n",
    "MI(traj)"
   ]
  },
  {
   "cell_type": "code",
   "execution_count": null,
   "metadata": {},
   "outputs": [],
   "source": []
  }
 ],
 "metadata": {
  "kernelspec": {
   "display_name": "Python 3",
   "language": "python",
   "name": "python3"
  },
  "language_info": {
   "codemirror_mode": {
    "name": "ipython",
    "version": 3
   },
   "file_extension": ".py",
   "mimetype": "text/x-python",
   "name": "python",
   "nbconvert_exporter": "python",
   "pygments_lexer": "ipython3",
   "version": "3.7.3"
  }
 },
 "nbformat": 4,
 "nbformat_minor": 2
}
