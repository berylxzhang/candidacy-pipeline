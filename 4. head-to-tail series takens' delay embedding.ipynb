{
 "cells": [
  {
   "cell_type": "markdown",
   "metadata": {},
   "source": [
    "# 1. import modules"
   ]
  },
  {
   "cell_type": "code",
   "execution_count": 1,
   "metadata": {},
   "outputs": [
    {
     "data": {
      "application/vnd.jupyter.widget-view+json": {
       "model_id": "d1cf08da74ce4545b6a294ab5d85d65b",
       "version_major": 2,
       "version_minor": 0
      },
      "text/plain": [
       "_ColormakerRegistry()"
      ]
     },
     "metadata": {},
     "output_type": "display_data"
    }
   ],
   "source": [
    "import numpy as np\n",
    "import matplotlib.pyplot as plt\n",
    "from scipy import linalg\n",
    "%matplotlib inline\n",
    "import mdtraj as md\n",
    "import nglview as nv\n",
    "import dmaps\n",
    "import math\n",
    "from scipy.spatial.distance import pdist, squareform\n",
    "from mpl_toolkits.mplot3d import Axes3D\n",
    "from numpy import matlib as mb"
   ]
  },
  {
   "cell_type": "markdown",
   "metadata": {},
   "source": [
    "# 2. gyration tensor calculation"
   ]
  },
  {
   "cell_type": "code",
   "execution_count": 2,
   "metadata": {},
   "outputs": [],
   "source": [
    "traj = md.load('trj_whole.xtc', top='traj_pbc.gro')"
   ]
  },
  {
   "cell_type": "code",
   "execution_count": 3,
   "metadata": {},
   "outputs": [],
   "source": [
    "traj_20000 = traj[:20000]"
   ]
  },
  {
   "cell_type": "code",
   "execution_count": 4,
   "metadata": {},
   "outputs": [],
   "source": [
    "def principal_ax(traj):\n",
    "    traj.center_coordinates()\n",
    "    X = np.array([X.T.dot(X)/X.shape[0] for X in traj.xyz])\n",
    "    evecs = np.linalg.eigvalsh(X)[:,::-1]\n",
    "    return np.sqrt(evecs)*10"
   ]
  },
  {
   "cell_type": "code",
   "execution_count": 5,
   "metadata": {},
   "outputs": [],
   "source": [
    "gt = principal_ax(traj)"
   ]
  },
  {
   "cell_type": "code",
   "execution_count": 6,
   "metadata": {},
   "outputs": [
    {
     "data": {
      "text/plain": [
       "(50001, 3)"
      ]
     },
     "execution_count": 6,
     "metadata": {},
     "output_type": "execute_result"
    }
   ],
   "source": [
    "gt.shape"
   ]
  },
  {
   "cell_type": "code",
   "execution_count": 7,
   "metadata": {},
   "outputs": [],
   "source": [
    "gt1 = gt[:,0]\n",
    "gt2 = gt[:,1]\n",
    "gt3 = gt[:,2]"
   ]
  },
  {
   "cell_type": "markdown",
   "metadata": {},
   "source": [
    "# 3. Takens' delay embedding"
   ]
  },
  {
   "cell_type": "code",
   "execution_count": 8,
   "metadata": {},
   "outputs": [],
   "source": [
    "dist = np.loadtxt('h2t series.txt', delimiter=',')\n",
    "length = len(dist)"
   ]
  },
  {
   "cell_type": "code",
   "execution_count": 9,
   "metadata": {},
   "outputs": [],
   "source": [
    "#tao = 2\n",
    "#d = 20"
   ]
  },
  {
   "cell_type": "code",
   "execution_count": 10,
   "metadata": {},
   "outputs": [],
   "source": [
    "# This code conduct delay embedding, given a time series O, delay time tau and\n",
    "# delay dimension D, it create a D dimensional vectors EBD, and a pairwise\n",
    "# distance matrix of the delayed points.\n",
    "\n",
    "def delayembedding(dist,gt):\n",
    "\n",
    "    d = int(input('Enter the dimension of embeding space:')) # determin dimension of embeding space\n",
    "    tao = int(input('Enter the delay time T:')) # input delay time\n",
    "    \n",
    "    N = traj.xyz.shape[0]\n",
    "    L = N - d*tao\n",
    "    M = np.zeros((L,d+1))\n",
    "    \n",
    "    gt1M = np.zeros((L,d+1)) \n",
    "    gt2M = np.zeros((L,d+1)) \n",
    "    gt3M = np.zeros((L,d+1)) \n",
    "    \n",
    "    print('The original number of snapshots is %d, the nunmber of reconstructed points is %d\\n'%(length, L)) #show change of # of data points\n",
    "    \n",
    "    M[:,0]= np.transpose(dist[0:L])\n",
    "    for i in range(L):\n",
    "        for j in range(1,d+1,1):\n",
    "            M[i,j] = dist[i+j*tao]\n",
    "            gt1M[i,j] = gt1[i+j*tao]\n",
    "            gt2M[i,j] = gt2[i+j*tao]\n",
    "            gt3M[i,j] = gt3[i+j*tao]\n",
    "    \n",
    "    return M,gt1M,gt2M,gt3M\n"
   ]
  },
  {
   "cell_type": "code",
   "execution_count": 11,
   "metadata": {},
   "outputs": [
    {
     "name": "stdout",
     "output_type": "stream",
     "text": [
      "Enter the dimension of embeding space:19\n",
      "Enter the delay time T:2\n",
      "The original number of snapshots is 50001, the nunmber of reconstructed points is 49963\n",
      "\n"
     ]
    }
   ],
   "source": [
    "M, gt1M, gt2M, gt3M = delayembedding(dist,gt)"
   ]
  },
  {
   "cell_type": "code",
   "execution_count": 12,
   "metadata": {},
   "outputs": [
    {
     "name": "stdout",
     "output_type": "stream",
     "text": [
      "(49963, 20) (49963, 20) (49963, 20) (49963, 20)\n"
     ]
    }
   ],
   "source": [
    "print(gt1M.shape,gt2M.shape,gt3M.shape,M.shape)"
   ]
  },
  {
   "cell_type": "code",
   "execution_count": 13,
   "metadata": {},
   "outputs": [],
   "source": [
    "np.savetxt('EBD.txt', M)\n"
   ]
  },
  {
   "cell_type": "code",
   "execution_count": 14,
   "metadata": {},
   "outputs": [],
   "source": [
    "gt1 = np.zeros(gt1M.shape[0])\n",
    "gt2 = np.zeros(gt2M.shape[0])\n",
    "gt3 = np.zeros(gt3M.shape[0])"
   ]
  },
  {
   "cell_type": "code",
   "execution_count": 15,
   "metadata": {},
   "outputs": [],
   "source": [
    "for i in range(gt1M.shape[0]):\n",
    "    gt1[i] = np.mean(gt1M[i,:])\n",
    "    gt2[i] = np.mean(gt2M[i,:])\n",
    "    gt3[i] = np.mean(gt3M[i,:])"
   ]
  },
  {
   "cell_type": "code",
   "execution_count": 16,
   "metadata": {},
   "outputs": [],
   "source": [
    "np.savetxt('gt1ebd.txt', gt1)\n",
    "np.savetxt('gt2ebd.txt', gt2)\n",
    "np.savetxt('gt3ebd.txt', gt3)"
   ]
  }
 ],
 "metadata": {
  "kernelspec": {
   "display_name": "Python 3",
   "language": "python",
   "name": "python3"
  },
  "language_info": {
   "codemirror_mode": {
    "name": "ipython",
    "version": 3
   },
   "file_extension": ".py",
   "mimetype": "text/x-python",
   "name": "python",
   "nbconvert_exporter": "python",
   "pygments_lexer": "ipython3",
   "version": "3.6.5"
  }
 },
 "nbformat": 4,
 "nbformat_minor": 2
}
